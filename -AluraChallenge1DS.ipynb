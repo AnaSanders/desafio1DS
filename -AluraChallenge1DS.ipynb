{
  "nbformat": 4,
  "nbformat_minor": 0,
  "metadata": {
    "colab": {
      "provenance": [],
      "collapsed_sections": [
        "2V_vcAPzWZmR",
        "Rq6tU_xSY3jk",
        "DmNp1KPBZCm-",
        "Fl0cGi3bZKqU"
      ]
    },
    "kernelspec": {
      "name": "python3",
      "display_name": "Python 3"
    },
    "language_info": {
      "name": "python"
    }
  },
  "cells": [
    {
      "cell_type": "markdown",
      "source": [
        "### Importação dos dados\n",
        "\n"
      ],
      "metadata": {
        "id": "RhEdWd9YUR6H"
      }
    },
    {
      "cell_type": "code",
      "execution_count": 53,
      "metadata": {
        "colab": {
          "base_uri": "https://localhost:8080/",
          "height": 365
        },
        "id": "T3EvaeQ_INIL",
        "outputId": "eeaa14ef-ba7b-432e-fa65-4264b906e3b4"
      },
      "outputs": [
        {
          "output_type": "execute_result",
          "data": {
            "text/plain": [
              "                 Produto Categoria do Produto    Preço      Frete  \\\n",
              "0     Assistente virtual          eletronicos   219.08   9.249790   \n",
              "1         Mesa de jantar               moveis   256.35  11.234305   \n",
              "2      Jogo de tabuleiro           brinquedos   279.51  21.262681   \n",
              "3            Micro-ondas     eletrodomesticos  1009.99  54.667344   \n",
              "4  Cadeira de escritório               moveis   446.99  26.964689   \n",
              "\n",
              "  Data da Compra        Vendedor Local da compra  Avaliação da compra  \\\n",
              "0     16/01/2021     Pedro Gomes              SP                    4   \n",
              "1     18/05/2022  Beatriz Moraes              RJ                    1   \n",
              "2     15/03/2021      João Souza              DF                    1   \n",
              "3     03/05/2022      João Souza              RS                    4   \n",
              "4     07/11/2020   Larissa Alves              MG                    5   \n",
              "\n",
              "  Tipo de pagamento  Quantidade de parcelas    lat    lon  \n",
              "0    cartao_credito                       8 -22.19 -48.79  \n",
              "1    cartao_credito                       4 -22.25 -42.66  \n",
              "2    cartao_credito                       1 -15.83 -47.86  \n",
              "3            boleto                       1 -30.17 -53.50  \n",
              "4            boleto                       1 -18.10 -44.38  "
            ],
            "text/html": [
              "\n",
              "  <div id=\"df-0ed3027d-4a27-4ae2-9b4f-1a4726e594dd\" class=\"colab-df-container\">\n",
              "    <div>\n",
              "<style scoped>\n",
              "    .dataframe tbody tr th:only-of-type {\n",
              "        vertical-align: middle;\n",
              "    }\n",
              "\n",
              "    .dataframe tbody tr th {\n",
              "        vertical-align: top;\n",
              "    }\n",
              "\n",
              "    .dataframe thead th {\n",
              "        text-align: right;\n",
              "    }\n",
              "</style>\n",
              "<table border=\"1\" class=\"dataframe\">\n",
              "  <thead>\n",
              "    <tr style=\"text-align: right;\">\n",
              "      <th></th>\n",
              "      <th>Produto</th>\n",
              "      <th>Categoria do Produto</th>\n",
              "      <th>Preço</th>\n",
              "      <th>Frete</th>\n",
              "      <th>Data da Compra</th>\n",
              "      <th>Vendedor</th>\n",
              "      <th>Local da compra</th>\n",
              "      <th>Avaliação da compra</th>\n",
              "      <th>Tipo de pagamento</th>\n",
              "      <th>Quantidade de parcelas</th>\n",
              "      <th>lat</th>\n",
              "      <th>lon</th>\n",
              "    </tr>\n",
              "  </thead>\n",
              "  <tbody>\n",
              "    <tr>\n",
              "      <th>0</th>\n",
              "      <td>Assistente virtual</td>\n",
              "      <td>eletronicos</td>\n",
              "      <td>219.08</td>\n",
              "      <td>9.249790</td>\n",
              "      <td>16/01/2021</td>\n",
              "      <td>Pedro Gomes</td>\n",
              "      <td>SP</td>\n",
              "      <td>4</td>\n",
              "      <td>cartao_credito</td>\n",
              "      <td>8</td>\n",
              "      <td>-22.19</td>\n",
              "      <td>-48.79</td>\n",
              "    </tr>\n",
              "    <tr>\n",
              "      <th>1</th>\n",
              "      <td>Mesa de jantar</td>\n",
              "      <td>moveis</td>\n",
              "      <td>256.35</td>\n",
              "      <td>11.234305</td>\n",
              "      <td>18/05/2022</td>\n",
              "      <td>Beatriz Moraes</td>\n",
              "      <td>RJ</td>\n",
              "      <td>1</td>\n",
              "      <td>cartao_credito</td>\n",
              "      <td>4</td>\n",
              "      <td>-22.25</td>\n",
              "      <td>-42.66</td>\n",
              "    </tr>\n",
              "    <tr>\n",
              "      <th>2</th>\n",
              "      <td>Jogo de tabuleiro</td>\n",
              "      <td>brinquedos</td>\n",
              "      <td>279.51</td>\n",
              "      <td>21.262681</td>\n",
              "      <td>15/03/2021</td>\n",
              "      <td>João Souza</td>\n",
              "      <td>DF</td>\n",
              "      <td>1</td>\n",
              "      <td>cartao_credito</td>\n",
              "      <td>1</td>\n",
              "      <td>-15.83</td>\n",
              "      <td>-47.86</td>\n",
              "    </tr>\n",
              "    <tr>\n",
              "      <th>3</th>\n",
              "      <td>Micro-ondas</td>\n",
              "      <td>eletrodomesticos</td>\n",
              "      <td>1009.99</td>\n",
              "      <td>54.667344</td>\n",
              "      <td>03/05/2022</td>\n",
              "      <td>João Souza</td>\n",
              "      <td>RS</td>\n",
              "      <td>4</td>\n",
              "      <td>boleto</td>\n",
              "      <td>1</td>\n",
              "      <td>-30.17</td>\n",
              "      <td>-53.50</td>\n",
              "    </tr>\n",
              "    <tr>\n",
              "      <th>4</th>\n",
              "      <td>Cadeira de escritório</td>\n",
              "      <td>moveis</td>\n",
              "      <td>446.99</td>\n",
              "      <td>26.964689</td>\n",
              "      <td>07/11/2020</td>\n",
              "      <td>Larissa Alves</td>\n",
              "      <td>MG</td>\n",
              "      <td>5</td>\n",
              "      <td>boleto</td>\n",
              "      <td>1</td>\n",
              "      <td>-18.10</td>\n",
              "      <td>-44.38</td>\n",
              "    </tr>\n",
              "  </tbody>\n",
              "</table>\n",
              "</div>\n",
              "    <div class=\"colab-df-buttons\">\n",
              "\n",
              "  <div class=\"colab-df-container\">\n",
              "    <button class=\"colab-df-convert\" onclick=\"convertToInteractive('df-0ed3027d-4a27-4ae2-9b4f-1a4726e594dd')\"\n",
              "            title=\"Convert this dataframe to an interactive table.\"\n",
              "            style=\"display:none;\">\n",
              "\n",
              "  <svg xmlns=\"http://www.w3.org/2000/svg\" height=\"24px\" viewBox=\"0 -960 960 960\">\n",
              "    <path d=\"M120-120v-720h720v720H120Zm60-500h600v-160H180v160Zm220 220h160v-160H400v160Zm0 220h160v-160H400v160ZM180-400h160v-160H180v160Zm440 0h160v-160H620v160ZM180-180h160v-160H180v160Zm440 0h160v-160H620v160Z\"/>\n",
              "  </svg>\n",
              "    </button>\n",
              "\n",
              "  <style>\n",
              "    .colab-df-container {\n",
              "      display:flex;\n",
              "      gap: 12px;\n",
              "    }\n",
              "\n",
              "    .colab-df-convert {\n",
              "      background-color: #E8F0FE;\n",
              "      border: none;\n",
              "      border-radius: 50%;\n",
              "      cursor: pointer;\n",
              "      display: none;\n",
              "      fill: #1967D2;\n",
              "      height: 32px;\n",
              "      padding: 0 0 0 0;\n",
              "      width: 32px;\n",
              "    }\n",
              "\n",
              "    .colab-df-convert:hover {\n",
              "      background-color: #E2EBFA;\n",
              "      box-shadow: 0px 1px 2px rgba(60, 64, 67, 0.3), 0px 1px 3px 1px rgba(60, 64, 67, 0.15);\n",
              "      fill: #174EA6;\n",
              "    }\n",
              "\n",
              "    .colab-df-buttons div {\n",
              "      margin-bottom: 4px;\n",
              "    }\n",
              "\n",
              "    [theme=dark] .colab-df-convert {\n",
              "      background-color: #3B4455;\n",
              "      fill: #D2E3FC;\n",
              "    }\n",
              "\n",
              "    [theme=dark] .colab-df-convert:hover {\n",
              "      background-color: #434B5C;\n",
              "      box-shadow: 0px 1px 3px 1px rgba(0, 0, 0, 0.15);\n",
              "      filter: drop-shadow(0px 1px 2px rgba(0, 0, 0, 0.3));\n",
              "      fill: #FFFFFF;\n",
              "    }\n",
              "  </style>\n",
              "\n",
              "    <script>\n",
              "      const buttonEl =\n",
              "        document.querySelector('#df-0ed3027d-4a27-4ae2-9b4f-1a4726e594dd button.colab-df-convert');\n",
              "      buttonEl.style.display =\n",
              "        google.colab.kernel.accessAllowed ? 'block' : 'none';\n",
              "\n",
              "      async function convertToInteractive(key) {\n",
              "        const element = document.querySelector('#df-0ed3027d-4a27-4ae2-9b4f-1a4726e594dd');\n",
              "        const dataTable =\n",
              "          await google.colab.kernel.invokeFunction('convertToInteractive',\n",
              "                                                    [key], {});\n",
              "        if (!dataTable) return;\n",
              "\n",
              "        const docLinkHtml = 'Like what you see? Visit the ' +\n",
              "          '<a target=\"_blank\" href=https://colab.research.google.com/notebooks/data_table.ipynb>data table notebook</a>'\n",
              "          + ' to learn more about interactive tables.';\n",
              "        element.innerHTML = '';\n",
              "        dataTable['output_type'] = 'display_data';\n",
              "        await google.colab.output.renderOutput(dataTable, element);\n",
              "        const docLink = document.createElement('div');\n",
              "        docLink.innerHTML = docLinkHtml;\n",
              "        element.appendChild(docLink);\n",
              "      }\n",
              "    </script>\n",
              "  </div>\n",
              "\n",
              "\n",
              "    <div id=\"df-18be78a2-06d6-49e2-a15b-978c2d4332fd\">\n",
              "      <button class=\"colab-df-quickchart\" onclick=\"quickchart('df-18be78a2-06d6-49e2-a15b-978c2d4332fd')\"\n",
              "                title=\"Suggest charts\"\n",
              "                style=\"display:none;\">\n",
              "\n",
              "<svg xmlns=\"http://www.w3.org/2000/svg\" height=\"24px\"viewBox=\"0 0 24 24\"\n",
              "     width=\"24px\">\n",
              "    <g>\n",
              "        <path d=\"M19 3H5c-1.1 0-2 .9-2 2v14c0 1.1.9 2 2 2h14c1.1 0 2-.9 2-2V5c0-1.1-.9-2-2-2zM9 17H7v-7h2v7zm4 0h-2V7h2v10zm4 0h-2v-4h2v4z\"/>\n",
              "    </g>\n",
              "</svg>\n",
              "      </button>\n",
              "\n",
              "<style>\n",
              "  .colab-df-quickchart {\n",
              "      --bg-color: #E8F0FE;\n",
              "      --fill-color: #1967D2;\n",
              "      --hover-bg-color: #E2EBFA;\n",
              "      --hover-fill-color: #174EA6;\n",
              "      --disabled-fill-color: #AAA;\n",
              "      --disabled-bg-color: #DDD;\n",
              "  }\n",
              "\n",
              "  [theme=dark] .colab-df-quickchart {\n",
              "      --bg-color: #3B4455;\n",
              "      --fill-color: #D2E3FC;\n",
              "      --hover-bg-color: #434B5C;\n",
              "      --hover-fill-color: #FFFFFF;\n",
              "      --disabled-bg-color: #3B4455;\n",
              "      --disabled-fill-color: #666;\n",
              "  }\n",
              "\n",
              "  .colab-df-quickchart {\n",
              "    background-color: var(--bg-color);\n",
              "    border: none;\n",
              "    border-radius: 50%;\n",
              "    cursor: pointer;\n",
              "    display: none;\n",
              "    fill: var(--fill-color);\n",
              "    height: 32px;\n",
              "    padding: 0;\n",
              "    width: 32px;\n",
              "  }\n",
              "\n",
              "  .colab-df-quickchart:hover {\n",
              "    background-color: var(--hover-bg-color);\n",
              "    box-shadow: 0 1px 2px rgba(60, 64, 67, 0.3), 0 1px 3px 1px rgba(60, 64, 67, 0.15);\n",
              "    fill: var(--button-hover-fill-color);\n",
              "  }\n",
              "\n",
              "  .colab-df-quickchart-complete:disabled,\n",
              "  .colab-df-quickchart-complete:disabled:hover {\n",
              "    background-color: var(--disabled-bg-color);\n",
              "    fill: var(--disabled-fill-color);\n",
              "    box-shadow: none;\n",
              "  }\n",
              "\n",
              "  .colab-df-spinner {\n",
              "    border: 2px solid var(--fill-color);\n",
              "    border-color: transparent;\n",
              "    border-bottom-color: var(--fill-color);\n",
              "    animation:\n",
              "      spin 1s steps(1) infinite;\n",
              "  }\n",
              "\n",
              "  @keyframes spin {\n",
              "    0% {\n",
              "      border-color: transparent;\n",
              "      border-bottom-color: var(--fill-color);\n",
              "      border-left-color: var(--fill-color);\n",
              "    }\n",
              "    20% {\n",
              "      border-color: transparent;\n",
              "      border-left-color: var(--fill-color);\n",
              "      border-top-color: var(--fill-color);\n",
              "    }\n",
              "    30% {\n",
              "      border-color: transparent;\n",
              "      border-left-color: var(--fill-color);\n",
              "      border-top-color: var(--fill-color);\n",
              "      border-right-color: var(--fill-color);\n",
              "    }\n",
              "    40% {\n",
              "      border-color: transparent;\n",
              "      border-right-color: var(--fill-color);\n",
              "      border-top-color: var(--fill-color);\n",
              "    }\n",
              "    60% {\n",
              "      border-color: transparent;\n",
              "      border-right-color: var(--fill-color);\n",
              "    }\n",
              "    80% {\n",
              "      border-color: transparent;\n",
              "      border-right-color: var(--fill-color);\n",
              "      border-bottom-color: var(--fill-color);\n",
              "    }\n",
              "    90% {\n",
              "      border-color: transparent;\n",
              "      border-bottom-color: var(--fill-color);\n",
              "    }\n",
              "  }\n",
              "</style>\n",
              "\n",
              "      <script>\n",
              "        async function quickchart(key) {\n",
              "          const quickchartButtonEl =\n",
              "            document.querySelector('#' + key + ' button');\n",
              "          quickchartButtonEl.disabled = true;  // To prevent multiple clicks.\n",
              "          quickchartButtonEl.classList.add('colab-df-spinner');\n",
              "          try {\n",
              "            const charts = await google.colab.kernel.invokeFunction(\n",
              "                'suggestCharts', [key], {});\n",
              "          } catch (error) {\n",
              "            console.error('Error during call to suggestCharts:', error);\n",
              "          }\n",
              "          quickchartButtonEl.classList.remove('colab-df-spinner');\n",
              "          quickchartButtonEl.classList.add('colab-df-quickchart-complete');\n",
              "        }\n",
              "        (() => {\n",
              "          let quickchartButtonEl =\n",
              "            document.querySelector('#df-18be78a2-06d6-49e2-a15b-978c2d4332fd button');\n",
              "          quickchartButtonEl.style.display =\n",
              "            google.colab.kernel.accessAllowed ? 'block' : 'none';\n",
              "        })();\n",
              "      </script>\n",
              "    </div>\n",
              "\n",
              "    </div>\n",
              "  </div>\n"
            ],
            "application/vnd.google.colaboratory.intrinsic+json": {
              "type": "dataframe",
              "variable_name": "loja",
              "summary": "{\n  \"name\": \"loja\",\n  \"rows\": 2359,\n  \"fields\": [\n    {\n      \"column\": \"Produto\",\n      \"properties\": {\n        \"dtype\": \"category\",\n        \"num_unique_values\": 51,\n        \"samples\": [\n          \"Viol\\u00e3o\",\n          \"Bola de basquete\",\n          \"Smartwatch\"\n        ],\n        \"semantic_type\": \"\",\n        \"description\": \"\"\n      }\n    },\n    {\n      \"column\": \"Categoria do Produto\",\n      \"properties\": {\n        \"dtype\": \"category\",\n        \"num_unique_values\": 8,\n        \"samples\": [\n          \"moveis\",\n          \"esporte e lazer\",\n          \"eletronicos\"\n        ],\n        \"semantic_type\": \"\",\n        \"description\": \"\"\n      }\n    },\n    {\n      \"column\": \"Pre\\u00e7o\",\n      \"properties\": {\n        \"dtype\": \"number\",\n        \"std\": 819.5827782539145,\n        \"min\": 10.07,\n        \"max\": 3969.38,\n        \"num_unique_values\": 2315,\n        \"samples\": [\n          446.11,\n          107.31,\n          65.86\n        ],\n        \"semantic_type\": \"\",\n        \"description\": \"\"\n      }\n    },\n    {\n      \"column\": \"Frete\",\n      \"properties\": {\n        \"dtype\": \"number\",\n        \"std\": 43.814183327408166,\n        \"min\": 0.0,\n        \"max\": 214.3770604781,\n        \"num_unique_values\": 2149,\n        \"samples\": [\n          83.815279607,\n          16.069664669,\n          14.0344876928\n        ],\n        \"semantic_type\": \"\",\n        \"description\": \"\"\n      }\n    },\n    {\n      \"column\": \"Data da Compra\",\n      \"properties\": {\n        \"dtype\": \"object\",\n        \"num_unique_values\": 1018,\n        \"samples\": [\n          \"15/09/2022\",\n          \"03/06/2020\",\n          \"06/11/2021\"\n        ],\n        \"semantic_type\": \"\",\n        \"description\": \"\"\n      }\n    },\n    {\n      \"column\": \"Vendedor\",\n      \"properties\": {\n        \"dtype\": \"category\",\n        \"num_unique_values\": 14,\n        \"samples\": [\n          \"Juliana Costa\",\n          \"Mariana Ferreira\",\n          \"Pedro Gomes\"\n        ],\n        \"semantic_type\": \"\",\n        \"description\": \"\"\n      }\n    },\n    {\n      \"column\": \"Local da compra\",\n      \"properties\": {\n        \"dtype\": \"category\",\n        \"num_unique_values\": 26,\n        \"samples\": [\n          \"TO\",\n          \"RN\",\n          \"SP\"\n        ],\n        \"semantic_type\": \"\",\n        \"description\": \"\"\n      }\n    },\n    {\n      \"column\": \"Avalia\\u00e7\\u00e3o da compra\",\n      \"properties\": {\n        \"dtype\": \"number\",\n        \"std\": 1,\n        \"min\": 1,\n        \"max\": 5,\n        \"num_unique_values\": 5,\n        \"samples\": [\n          1,\n          2,\n          5\n        ],\n        \"semantic_type\": \"\",\n        \"description\": \"\"\n      }\n    },\n    {\n      \"column\": \"Tipo de pagamento\",\n      \"properties\": {\n        \"dtype\": \"category\",\n        \"num_unique_values\": 4,\n        \"samples\": [\n          \"boleto\",\n          \"cartao_debito\",\n          \"cartao_credito\"\n        ],\n        \"semantic_type\": \"\",\n        \"description\": \"\"\n      }\n    },\n    {\n      \"column\": \"Quantidade de parcelas\",\n      \"properties\": {\n        \"dtype\": \"number\",\n        \"std\": 2,\n        \"min\": 1,\n        \"max\": 24,\n        \"num_unique_values\": 15,\n        \"samples\": [\n          7,\n          14,\n          8\n        ],\n        \"semantic_type\": \"\",\n        \"description\": \"\"\n      }\n    },\n    {\n      \"column\": \"lat\",\n      \"properties\": {\n        \"dtype\": \"number\",\n        \"std\": 5.372399916530833,\n        \"min\": -30.17,\n        \"max\": 1.41,\n        \"num_unique_values\": 26,\n        \"samples\": [\n          -9.46,\n          -5.81,\n          -22.19\n        ],\n        \"semantic_type\": \"\",\n        \"description\": \"\"\n      }\n    },\n    {\n      \"column\": \"lon\",\n      \"properties\": {\n        \"dtype\": \"number\",\n        \"std\": 4.183180020544179,\n        \"min\": -70.55,\n        \"max\": -36.59,\n        \"num_unique_values\": 26,\n        \"samples\": [\n          -48.26,\n          -36.59,\n          -48.79\n        ],\n        \"semantic_type\": \"\",\n        \"description\": \"\"\n      }\n    }\n  ]\n}"
            }
          },
          "metadata": {},
          "execution_count": 53
        }
      ],
      "source": [
        "import pandas as pd\n",
        "\n",
        "url = \"https://raw.githubusercontent.com/alura-es-cursos/challenge1-data-science/refs/heads/main/base-de-dados-challenge-1/loja_1.csv\"\n",
        "url2 = \"https://raw.githubusercontent.com/alura-es-cursos/challenge1-data-science/refs/heads/main/base-de-dados-challenge-1/loja_2.csv\"\n",
        "url3 = \"https://raw.githubusercontent.com/alura-es-cursos/challenge1-data-science/refs/heads/main/base-de-dados-challenge-1/loja_3.csv\"\n",
        "url4 = \"https://raw.githubusercontent.com/alura-es-cursos/challenge1-data-science/refs/heads/main/base-de-dados-challenge-1/loja_4.csv\"\n",
        "\n",
        "loja = pd.read_csv(url)\n",
        "loja2 = pd.read_csv(url2)\n",
        "loja3 = pd.read_csv(url3)\n",
        "loja4 = pd.read_csv(url4)\n",
        "\n",
        "loja.head()"
      ]
    },
    {
      "cell_type": "markdown",
      "source": [
        "#1. Análise do faturamento\n"
      ],
      "metadata": {
        "id": "X62IW3KFUIYm"
      }
    },
    {
      "cell_type": "markdown",
      "source": [
        "## Loja 1"
      ],
      "metadata": {
        "id": "w_qWXkXr90zM"
      }
    },
    {
      "cell_type": "code",
      "source": [
        "soma_loja = loja['Preço'].sum()\n",
        "print(f'A loja 1 possui {soma_loja} de faturamento')"
      ],
      "metadata": {
        "colab": {
          "base_uri": "https://localhost:8080/"
        },
        "id": "huxudR3S90Os",
        "outputId": "f655771c-5f1a-4298-b6b4-291bea620341"
      },
      "execution_count": 54,
      "outputs": [
        {
          "output_type": "stream",
          "name": "stdout",
          "text": [
            "A loja 1 possui 1534509.12 de faturamento\n"
          ]
        }
      ]
    },
    {
      "cell_type": "markdown",
      "source": [
        "## Loja 2"
      ],
      "metadata": {
        "id": "2KuB7gRG99oq"
      }
    },
    {
      "cell_type": "code",
      "source": [
        "soma_loja2 = loja2['Preço'].sum()\n",
        "print(f'A loja 2 possui {soma_loja2} de faturamento')"
      ],
      "metadata": {
        "colab": {
          "base_uri": "https://localhost:8080/"
        },
        "id": "CSig1QSL-EuT",
        "outputId": "51421835-202e-4f3e-e47e-002c295958b7"
      },
      "execution_count": 55,
      "outputs": [
        {
          "output_type": "stream",
          "name": "stdout",
          "text": [
            "A loja 2 possui 1488459.06 de faturamento\n"
          ]
        }
      ]
    },
    {
      "cell_type": "markdown",
      "source": [
        "## Loja 3"
      ],
      "metadata": {
        "id": "4w3AYCpZ-HqU"
      }
    },
    {
      "cell_type": "code",
      "source": [
        "soma_loja3 = loja3['Preço'].sum()\n",
        "print(f'A loja 3 possui {soma_loja3} de faturamento')"
      ],
      "metadata": {
        "colab": {
          "base_uri": "https://localhost:8080/"
        },
        "id": "E1MApkxE-Pbd",
        "outputId": "eb5ed4a9-c5d7-447c-8033-af466560a676"
      },
      "execution_count": 56,
      "outputs": [
        {
          "output_type": "stream",
          "name": "stdout",
          "text": [
            "A loja 3 possui 1464025.03 de faturamento\n"
          ]
        }
      ]
    },
    {
      "cell_type": "markdown",
      "source": [
        "## Loja 4"
      ],
      "metadata": {
        "id": "oUANlzeT-Mbt"
      }
    },
    {
      "cell_type": "code",
      "source": [
        "soma_loja4 = loja4['Preço'].sum()\n",
        "print(f'A loja 4 possui {soma_loja4} de faturamento')"
      ],
      "metadata": {
        "id": "xykobSftV64I",
        "colab": {
          "base_uri": "https://localhost:8080/"
        },
        "outputId": "8d46624a-44d7-41d4-f8f1-f9b8a796bb02"
      },
      "execution_count": 57,
      "outputs": [
        {
          "output_type": "stream",
          "name": "stdout",
          "text": [
            "A loja 4 possui 1384497.58 de faturamento\n"
          ]
        }
      ]
    },
    {
      "cell_type": "markdown",
      "source": [
        "## Total\n"
      ],
      "metadata": {
        "id": "9vKfLrEN-qh1"
      }
    },
    {
      "cell_type": "code",
      "source": [
        "somaTotal = (soma_loja + soma_loja2 + soma_loja3 + soma_loja4)\n",
        "print(f'Sendo {somaTotal} o total faturado pelas 4 empresas')"
      ],
      "metadata": {
        "id": "KDyr8E71V3m-",
        "colab": {
          "base_uri": "https://localhost:8080/"
        },
        "outputId": "d0b4895e-1942-49ce-d711-68fa14642414"
      },
      "execution_count": 58,
      "outputs": [
        {
          "output_type": "stream",
          "name": "stdout",
          "text": [
            "Sendo 5871490.79 o total faturado pelas 4 empresas\n"
          ]
        }
      ]
    },
    {
      "cell_type": "markdown",
      "source": [
        "## Gráfico da **diferença** de faturamento"
      ],
      "metadata": {
        "id": "Dt9bXf9QGxGm"
      }
    },
    {
      "cell_type": "code",
      "source": [
        "import matplotlib.pyplot as plt\n",
        "valores = [soma_loja, soma_loja2, soma_loja3, soma_loja4]\n",
        "lojas = ['Loja 1', 'Loja 2', 'Loja 3', 'Loja 4']\n",
        "rotulos = [f'{nome} R${valores}' for nome, valores in zip(lojas, valores)]\n",
        "valorBase = min(valores)\n",
        "diferenças = [valor - valorBase for valor in valores]\n",
        "plt.pie(diferenças, labels=rotulos, autopct='%1.1f%%', startangle=90)\n",
        "plt.title('Gráfico da diferença de faturamento')\n",
        "plt.show()\n",
        "## loja 4 está com 0% pois é a menor em faturamento e valor base para o gráfico"
      ],
      "metadata": {
        "colab": {
          "base_uri": "https://localhost:8080/",
          "height": 429
        },
        "id": "OSPxAu6bG6HO",
        "outputId": "b6a6e9e4-7528-457a-8eba-43967e2394cc"
      },
      "execution_count": 80,
      "outputs": [
        {
          "output_type": "display_data",
          "data": {
            "text/plain": [
              "<Figure size 640x480 with 1 Axes>"
            ],
            "image/png": "[encoded data removed]"
          },
          "metadata": {}
        }
      ]
    },
    {
      "cell_type": "markdown",
      "source": [
        "# 2. Vendas por Categoria\n"
      ],
      "metadata": {
        "id": "2V_vcAPzWZmR"
      }
    },
    {
      "cell_type": "markdown",
      "source": [
        "## Loja 1\n"
      ],
      "metadata": {
        "id": "_k2oUnLZ7Qn3"
      }
    },
    {
      "cell_type": "code",
      "source": [
        "vendasPorCategoria_loja = loja['Categoria do Produto'].value_counts()\n",
        "\n",
        "CategoriaMaisPopular_loja = loja['Categoria do Produto'].value_counts().idxmax()\n",
        "vendasPorCategoria_loja.plot(kind='barh')\n",
        "\n",
        "print(f'Na loja 1 a categoria {CategoriaMaisPopular_loja} é a mais popular')\n"
      ],
      "metadata": {
        "id": "A34YupIuYhfF",
        "colab": {
          "base_uri": "https://localhost:8080/",
          "height": 448
        },
        "outputId": "4fa2b666-e771-422b-e9c1-fcc6856d437a"
      },
      "execution_count": 60,
      "outputs": [
        {
          "output_type": "stream",
          "name": "stdout",
          "text": [
            "Na loja 1 a categoria moveis é a mais popular\n"
          ]
        },
        {
          "output_type": "display_data",
          "data": {
            "text/plain": [
              "<Figure size 640x480 with 1 Axes>"
            ],
            "image/png": "[encoded data removed]"
          },
          "metadata": {}
        }
      ]
    },
    {
      "cell_type": "markdown",
      "source": [
        "## Loja 2"
      ],
      "metadata": {
        "id": "sTzrBANs7Xzp"
      }
    },
    {
      "cell_type": "code",
      "source": [
        "vendasPorCategoria_loja2 = loja2['Categoria do Produto'].value_counts()\n",
        "\n",
        "CategoriaMaisPopular_loja2 = loja2['Categoria do Produto'].value_counts().idxmax()\n",
        "\n",
        "vendasPorCategoria_loja2.plot(kind='barh')\n",
        "print(f'Na loja 2 a categoria {CategoriaMaisPopular_loja2} é a mais popular')"
      ],
      "metadata": {
        "id": "yZR6cOjXYSk1",
        "colab": {
          "base_uri": "https://localhost:8080/",
          "height": 448
        },
        "outputId": "9e4da918-67eb-4cea-8511-536fb5b283c2"
      },
      "execution_count": 61,
      "outputs": [
        {
          "output_type": "stream",
          "name": "stdout",
          "text": [
            "Na loja 2 a categoria moveis é a mais popular\n"
          ]
        },
        {
          "output_type": "display_data",
          "data": {
            "text/plain": [
              "<Figure size 640x480 with 1 Axes>"
            ],
            "image/png": "[encoded data removed]"
          },
          "metadata": {}
        }
      ]
    },
    {
      "cell_type": "markdown",
      "source": [
        "## Loja 3"
      ],
      "metadata": {
        "id": "eoA4ifzL8KdO"
      }
    },
    {
      "cell_type": "code",
      "source": [
        "vendasPorCategoria_loja3 = loja3['Categoria do Produto'].value_counts()\n",
        "\n",
        "CategoriaMaisPopular_loja3 = loja3['Categoria do Produto'].value_counts().idxmax()\n",
        "\n",
        "vendasPorCategoria_loja3.plot(kind='barh')\n",
        "print(f'Na loja 3 a categoria {CategoriaMaisPopular_loja3} é a mais popular')"
      ],
      "metadata": {
        "colab": {
          "base_uri": "https://localhost:8080/",
          "height": 448
        },
        "id": "L95dTOB88WgE",
        "outputId": "0a495750-8ad7-4e76-fc69-59295e53ccd3"
      },
      "execution_count": 62,
      "outputs": [
        {
          "output_type": "stream",
          "name": "stdout",
          "text": [
            "Na loja 3 a categoria moveis é a mais popular\n"
          ]
        },
        {
          "output_type": "display_data",
          "data": {
            "text/plain": [
              "<Figure size 640x480 with 1 Axes>"
            ],
            "image/png": "[encoded data removed]"
          },
          "metadata": {}
        }
      ]
    },
    {
      "cell_type": "markdown",
      "source": [
        "## Loja 4\n"
      ],
      "metadata": {
        "id": "0z5UcBEh8xjx"
      }
    },
    {
      "cell_type": "code",
      "source": [
        "vendasPorCategoria_loja4 = loja4['Categoria do Produto'].value_counts()\n",
        "\n",
        "CategoriaMaisPopular_loja4 = loja4['Categoria do Produto'].value_counts().idxmax()\n",
        "\n",
        "vendasPorCategoria_loja4.plot(kind='barh')\n",
        "print(f'Na loja 4 a categoria {CategoriaMaisPopular_loja4} é a mais popular')"
      ],
      "metadata": {
        "colab": {
          "base_uri": "https://localhost:8080/",
          "height": 448
        },
        "id": "EL9Gy4858wyq",
        "outputId": "ff360833-898d-4744-d6b4-25e252162c6f"
      },
      "execution_count": 63,
      "outputs": [
        {
          "output_type": "stream",
          "name": "stdout",
          "text": [
            "Na loja 4 a categoria moveis é a mais popular\n"
          ]
        },
        {
          "output_type": "display_data",
          "data": {
            "text/plain": [
              "<Figure size 640x480 with 1 Axes>"
            ],
            "image/png": "[encoded data removed]"
          },
          "metadata": {}
        }
      ]
    },
    {
      "cell_type": "markdown",
      "source": [
        "# 3. Média de Avaliação das Lojas"
      ],
      "metadata": {
        "id": "Rq6tU_xSY3jk"
      }
    },
    {
      "cell_type": "code",
      "source": [
        "# Média de avaliações da loja 1\n",
        "mediaAvaliações_loja = loja['Avaliação da compra'].mean()\n",
        "print(mediaAvaliações_loja)"
      ],
      "metadata": {
        "id": "bh3jjjJwY5MU",
        "colab": {
          "base_uri": "https://localhost:8080/"
        },
        "outputId": "298b6982-cb7f-4c19-d0b2-22101b2f5e94"
      },
      "execution_count": 65,
      "outputs": [
        {
          "output_type": "stream",
          "name": "stdout",
          "text": [
            "3.976685036032217\n"
          ]
        }
      ]
    },
    {
      "cell_type": "code",
      "source": [
        "# Média de avaliações da loja 2\n",
        "mediaAvaliações_loja2 = loja2['Avaliação da compra'].mean()\n",
        "print(mediaAvaliações_loja2)"
      ],
      "metadata": {
        "id": "I0KkjPoTY88F",
        "colab": {
          "base_uri": "https://localhost:8080/"
        },
        "outputId": "b45ed9e0-43fe-4dec-9e5b-a0660b9ec515"
      },
      "execution_count": 66,
      "outputs": [
        {
          "output_type": "stream",
          "name": "stdout",
          "text": [
            "4.037303942348453\n"
          ]
        }
      ]
    },
    {
      "cell_type": "code",
      "source": [
        "# Média de avaliações da loja 3\n",
        "mediaAvaliações_loja3 = loja3['Avaliação da compra'].mean()\n",
        "print(mediaAvaliações_loja3)"
      ],
      "metadata": {
        "colab": {
          "base_uri": "https://localhost:8080/"
        },
        "id": "Q3K9xEPACHuO",
        "outputId": "d325f576-455e-47ed-ac01-75f378af7b48"
      },
      "execution_count": 67,
      "outputs": [
        {
          "output_type": "stream",
          "name": "stdout",
          "text": [
            "4.048325561678677\n"
          ]
        }
      ]
    },
    {
      "cell_type": "code",
      "source": [
        "# Média de avaliações da loja 4\n",
        "mediaAvaliações_loja4 = loja4['Avaliação da compra'].mean()\n",
        "print(mediaAvaliações_loja4)"
      ],
      "metadata": {
        "colab": {
          "base_uri": "https://localhost:8080/"
        },
        "id": "vHka8xJRCVJT",
        "outputId": "3084fb3b-c65e-4a1e-b1b9-2f190249564d"
      },
      "execution_count": 68,
      "outputs": [
        {
          "output_type": "stream",
          "name": "stdout",
          "text": [
            "3.9957591178965224\n"
          ]
        }
      ]
    },
    {
      "cell_type": "markdown",
      "source": [
        "## Loja mais bem avaliada\n"
      ],
      "metadata": {
        "id": "t8zqXp13CWYq"
      }
    },
    {
      "cell_type": "code",
      "source": [
        "# Calculo de Maior Média\n",
        "lojaPorAvaliação = {'loja 1': mediaAvaliações_loja, 'loja 2': mediaAvaliações_loja2, 'loja 3': mediaAvaliações_loja3, 'loja 4': mediaAvaliações_loja4}\n",
        "maiorMedia = max(lojaPorAvaliação,\n",
        "                 key = lojaPorAvaliação.get)\n",
        "print(f'A {maiorMedia} foi a mais bem avaliada com uma média de {lojaPorAvaliação[maiorMedia]}')"
      ],
      "metadata": {
        "colab": {
          "base_uri": "https://localhost:8080/"
        },
        "id": "LNOaoDuZDzxa",
        "outputId": "b018746a-6118-4bce-dbf6-d510774c711d"
      },
      "execution_count": 69,
      "outputs": [
        {
          "output_type": "stream",
          "name": "stdout",
          "text": [
            "A loja 3 foi a mais bem avaliada com uma média de 4.048325561678677\n"
          ]
        }
      ]
    },
    {
      "cell_type": "markdown",
      "source": [
        "# Gráficos de avaliações por loja"
      ],
      "metadata": {
        "id": "NWIgxiOIVoSi"
      }
    },
    {
      "cell_type": "code",
      "source": [
        "# Loja 2\n",
        "Avaliações_loja2 = loja2['Avaliação da compra'].value_counts()\n",
        "\n",
        "# Loja 3\n",
        "Avaliações_loja3 = loja3['Avaliação da compra'].value_counts()\n",
        "\n",
        "# Loja 4\n",
        "Avaliações_loja4 = loja4['Avaliação da compra'].value_counts()\n",
        "\n",
        "df_comparativo = pd.DataFrame({\n",
        "    'Loja 1': Avaliações_loja,\n",
        "    'Loja 2': Avaliações_loja2,\n",
        "    'Loja 3': Avaliações_loja3,\n",
        "    'Loja 4': Avaliações_loja4\n",
        "})\n",
        "\n",
        "for avaliação in df_comparativo.index:\n",
        "    plt.plot(df_comparativo.columns, df_comparativo.loc[avaliação], marker='o', label=avaliação)\n",
        "\n",
        "plt.title('Comparativo de Avaliações das Lojas (Gráfico de Linhas)')\n",
        "plt.xlabel('Loja')\n",
        "plt.ylabel('Número de Avaliações')\n",
        "plt.xticks(df_comparativo.columns)\n",
        "plt.legend(title='Avaliação')\n",
        "plt.grid(True) # Adiciona uma grade para facilitar a leitura\n",
        "plt.tight_layout()\n",
        "plt.show()"
      ],
      "metadata": {
        "colab": {
          "base_uri": "https://localhost:8080/",
          "height": 487
        },
        "id": "vcMSZyUtWmmi",
        "outputId": "ab14fbec-b32d-48bf-a298-b5993b1bc8c6"
      },
      "execution_count": 85,
      "outputs": [
        {
          "output_type": "display_data",
          "data": {
            "text/plain": [
              "<Figure size 640x480 with 1 Axes>"
            ],
            "image/png": "[encoded data removed]"
          },
          "metadata": {}
        }
      ]
    },
    {
      "cell_type": "markdown",
      "source": [
        "# 4. Produtos Mais e Menos Vendidos"
      ],
      "metadata": {
        "id": "DmNp1KPBZCm-"
      }
    },
    {
      "cell_type": "markdown",
      "source": [
        "## Loja 1"
      ],
      "metadata": {
        "id": "upRuAF4sKBYJ"
      }
    },
    {
      "cell_type": "code",
      "source": [
        "# Loja 1\n",
        "vendasPorProduto_loja = loja['Produto'].value_counts()\n",
        "\n",
        "maiorVenda_loja = vendasPorProduto_loja.max()\n",
        "\n",
        "produtosMaisVendidos_loja = vendasPorProduto_loja[vendasPorProduto_loja == maiorVenda_loja]\n",
        "print(f'Mais vendidos na Loja 1 {produtosMaisVendidos_loja}')\n",
        "# Se quiser a lista completa a quantidade vendida por produto, tirar a # abaixo\n",
        "# print(f'Quantidade vendida por {vendasPorProduto_loja}')"
      ],
      "metadata": {
        "id": "qoyjqijQZHfF",
        "colab": {
          "base_uri": "https://localhost:8080/"
        },
        "outputId": "fa8e73a1-e2bb-4023-db3b-55768403b986"
      },
      "execution_count": 32,
      "outputs": [
        {
          "output_type": "stream",
          "name": "stdout",
          "text": [
            "Mais vendidos na Loja 1 Produto\n",
            "Micro-ondas      60\n",
            "TV Led UHD 4K    60\n",
            "Guarda roupas    60\n",
            "Name: count, dtype: int64\n"
          ]
        }
      ]
    },
    {
      "cell_type": "markdown",
      "source": [
        "## Loja 2\n"
      ],
      "metadata": {
        "id": "IOPQx72mKJdN"
      }
    },
    {
      "cell_type": "code",
      "source": [
        "vendasPorProduto_loja2 = loja2['Produto'].value_counts()\n",
        "\n",
        "maiorVenda_loja2 = vendasPorProduto_loja2.max()\n",
        "\n",
        "produtosMaisVendidos_loja2 = vendasPorProduto_loja2[vendasPorProduto_loja2 == maiorVenda_loja2]\n",
        "print(f'Mais vendidos na Loja 2 {produtosMaisVendidos_loja2}')\n",
        "# Se quiser a lista completa a quantidade vendida por produto, tirar a # abaixo\n",
        "# print(f'Quantidade vendida por {vendasPorProduto_loja2}')"
      ],
      "metadata": {
        "id": "0Sw3sd4IZIGW",
        "colab": {
          "base_uri": "https://localhost:8080/"
        },
        "outputId": "c463af16-1044-458f-a4ae-9a603f582521"
      },
      "execution_count": 33,
      "outputs": [
        {
          "output_type": "stream",
          "name": "stdout",
          "text": [
            "Mais vendidos na Loja 2 Produto\n",
            "Iniciando em programação    65\n",
            "Name: count, dtype: int64\n"
          ]
        }
      ]
    },
    {
      "cell_type": "markdown",
      "source": [
        "## Loja 3\n"
      ],
      "metadata": {
        "id": "we8Fmc34Kt4r"
      }
    },
    {
      "cell_type": "code",
      "source": [
        "vendasPorProduto_loja3 = loja3['Produto'].value_counts()\n",
        "\n",
        "maiorVenda_loja3 = vendasPorProduto_loja3.max()\n",
        "\n",
        "produtosMaisVendidos_loja3 = vendasPorProduto_loja3[vendasPorProduto_loja3 == maiorVenda_loja3]\n",
        "print(f'Mais vendidos na Loja 3 {produtosMaisVendidos_loja3}')\n",
        "# Se quiser a lista completa a quantidade vendida por produto, tirar a # abaixo\n",
        "#print(f'Quantidade vendida por {vendasPorProduto_loja3}')"
      ],
      "metadata": {
        "colab": {
          "base_uri": "https://localhost:8080/"
        },
        "id": "z1uHqtv_K61t",
        "outputId": "0d4d67f7-9d1e-4b17-c7ef-0103134253cc"
      },
      "execution_count": 34,
      "outputs": [
        {
          "output_type": "stream",
          "name": "stdout",
          "text": [
            "Mais vendidos na Loja 3 Produto\n",
            "Kit banquetas    57\n",
            "Name: count, dtype: int64\n"
          ]
        }
      ]
    },
    {
      "cell_type": "markdown",
      "source": [
        "## Loja 4"
      ],
      "metadata": {
        "id": "Cj0mGGmuLi2Q"
      }
    },
    {
      "cell_type": "code",
      "source": [
        "## Loja 4\n",
        "vendasPorProduto_loja4 = loja4['Produto'].value_counts()\n",
        "\n",
        "maiorVenda_loja4 = vendasPorProduto_loja4.max()\n",
        "\n",
        "produtosMaisVendidos_loja4 = vendasPorProduto_loja4[vendasPorProduto_loja4 == maiorVenda_loja4]\n",
        "print(f'Mais vendidos na Loja 4 {produtosMaisVendidos_loja4}')\n",
        "# Se quiser a lista completa a quantidade vendida por produto, tirar a # abaixo\n",
        "#print(f'Quantidade vendida por {vendasPorProduto_loja4}')"
      ],
      "metadata": {
        "colab": {
          "base_uri": "https://localhost:8080/"
        },
        "id": "o7LcYgCZLcvi",
        "outputId": "a7684f36-aa62-458b-9e67-8241dd42d457"
      },
      "execution_count": 35,
      "outputs": [
        {
          "output_type": "stream",
          "name": "stdout",
          "text": [
            "Mais vendidos na Loja 4 Produto\n",
            "Cama box    62\n",
            "Name: count, dtype: int64\n"
          ]
        }
      ]
    },
    {
      "cell_type": "markdown",
      "source": [
        "# 5. Frete Médio por Loja\n"
      ],
      "metadata": {
        "id": "Fl0cGi3bZKqU"
      }
    },
    {
      "cell_type": "markdown",
      "source": [
        "## Loja 1"
      ],
      "metadata": {
        "id": "GT8biMzxEd4Y"
      }
    },
    {
      "cell_type": "code",
      "source": [
        "# Loja 1\n",
        "mediaFrete_loja = loja['Frete'].mean()\n",
        "print(f'A média de frete da loja 1 é de {mediaFrete_loja}')"
      ],
      "metadata": {
        "id": "S2JeaCykZNy9",
        "colab": {
          "base_uri": "https://localhost:8080/"
        },
        "outputId": "412afa45-f974-4ce9-ff26-c2dee6f82b26"
      },
      "execution_count": 24,
      "outputs": [
        {
          "output_type": "stream",
          "name": "stdout",
          "text": [
            "A média de frete da loja 1 é de 34.69180491551149\n"
          ]
        }
      ]
    },
    {
      "cell_type": "markdown",
      "source": [
        "## Loja 2"
      ],
      "metadata": {
        "id": "EoRRdR5xEi9B"
      }
    },
    {
      "cell_type": "code",
      "source": [
        "# Loja 2\n",
        "mediaFrete_loja2 = loja2['Frete'].mean()\n",
        "print(f'A média de frete da loja 2 é de {mediaFrete_loja2}')"
      ],
      "metadata": {
        "id": "0tSdCie9ZQlt",
        "colab": {
          "base_uri": "https://localhost:8080/"
        },
        "outputId": "9b25fb68-a609-4dc0-df8a-8562c823bc4d"
      },
      "execution_count": 25,
      "outputs": [
        {
          "output_type": "stream",
          "name": "stdout",
          "text": [
            "A média de frete da loja 2 é de 33.62194065817927\n"
          ]
        }
      ]
    },
    {
      "cell_type": "markdown",
      "source": [
        "## Loja 3"
      ],
      "metadata": {
        "id": "b-TF6l05EwvR"
      }
    },
    {
      "cell_type": "code",
      "source": [
        "# Loja 3\n",
        "mediaFrete_loja3 = loja3['Frete'].mean()\n",
        "print(f'A média de frete da loja 1 é de {mediaFrete_loja3}')"
      ],
      "metadata": {
        "colab": {
          "base_uri": "https://localhost:8080/"
        },
        "id": "weCe7opzE0KG",
        "outputId": "47891af4-dbd7-4497-b765-085c786816a7"
      },
      "execution_count": 26,
      "outputs": [
        {
          "output_type": "stream",
          "name": "stdout",
          "text": [
            "A média de frete da loja 1 é de 33.07446427411743\n"
          ]
        }
      ]
    },
    {
      "cell_type": "markdown",
      "source": [
        "## Loja 4"
      ],
      "metadata": {
        "id": "2347ddGWE7TK"
      }
    },
    {
      "cell_type": "code",
      "source": [
        "# Loja 4\n",
        "mediaFrete_loja4 = loja4['Frete'].mean()\n",
        "print(f'A média de frete da loja 1 é de {mediaFrete_loja4}')"
      ],
      "metadata": {
        "colab": {
          "base_uri": "https://localhost:8080/"
        },
        "id": "ENS1W1iSE-P3",
        "outputId": "674092ff-853b-4b92-f647-424f49a28b3f"
      },
      "execution_count": 27,
      "outputs": [
        {
          "output_type": "stream",
          "name": "stdout",
          "text": [
            "A média de frete da loja 1 é de 31.278997081841727\n"
          ]
        }
      ]
    },
    {
      "cell_type": "markdown",
      "source": [
        "# Relatório Final"
      ],
      "metadata": {
        "id": "RrdgBEr1ctko"
      }
    },
    {
      "cell_type": "markdown",
      "source": [
        "**Introdução**\n",
        "\n",
        "O relatório tem como objetivo fornecer uma análise abrangente das quatro lojas, para subsidiar a decisão do Senhor João sobre qual loja vender. A análise incluindo faturamento total, desempenho de categorias de produtos, avaliações de clientes, produtos mais e menos vendidos e custos de frete.\n",
        "\n",
        "**No Faturamento Total das Lojas**\n",
        "\n",
        "*   Loja 1: R$ 1.534.509,12\n",
        "\n",
        "*   Loja 2: R$ 1.488.459,06\n",
        "\n",
        "*   Loja 3: R$ 1.464.025,03\n",
        "\n",
        "*   Loja 4: R$ 1.384.497,58\n",
        "\n",
        "A Loja 1 apresenta o maior faturamento, seguida pelas Lojas 2 e 3, com a Loja 4 demonstrando o menor desempenho nesse quesito. O gráfico de diferenças de faturamento evidencia que a Loja 4 tem uma receita consideravelmente inferior às demais.  \n",
        "  \n",
        "  **Categorias de Produtos Mais e Menos Vendidas**  \n",
        "  A análise das categorias revela variações leves no desempenho entre as lojas. Moveis sendo a categoria mais vendida em todas elas e sem a loja 4 se destacar particularmente em nehuma delas.  \n",
        "\n",
        "**Média das Avaliações de Clientes por Loja**  \n",
        "\n",
        "\n",
        "*   As avaliações dos clientes variam ligeiramente entre as lojas. A Loja 1 e a Loja 3 possuem as médias de avaliação mais altas\n",
        "*   A Loja 2 e a Loja 4 apresentam avaliações um pouco mais baixas\n",
        "  \n",
        "**Produtos Mais e Menos Vendidos**\n",
        "\n",
        "\n",
        "*   Há uma consistência nos produtos mais vendidos entre as lojas\n",
        "*   Os produtos menos vendidos variam mais, mas geralmente incluem itens de nicho\n",
        "\n",
        "*   A Loja 4 não se destaca positivamente em nenhum produto específico.\n",
        "  \n",
        "**Frete Médio de Cada Loja**  \n",
        "\n",
        "A Loja 4 apresenta um dos fretes médios mais altos  \n",
        "\n",
        "**Conclusão**  \n",
        "Com base na análise dos dados e nas visualizações geradas, recomendo que o Senhor João considere a venda da Loja 4.\n",
        "\n",
        "**Justificativa**  \n",
        "A Loja 4 tem o menor faturamento total em comparação com as outras lojas, um desempenho abaixo da média em diversas categorias de produtos, uma avaliações de clientes mais baixas e custos de frete mais elevados"
      ],
      "metadata": {
        "id": "2HQc7zGQc1D0"
      }
    }
  ]
}